{
 "cells": [
  {
   "cell_type": "code",
   "execution_count": 1,
   "metadata": {},
   "outputs": [],
   "source": [
    "import numpy as np\n",
    "\n",
    "data=np.load('data.npy')\n",
    "target=np.load('target.npy')"
   ]
  },
  {
   "cell_type": "code",
   "execution_count": 2,
   "metadata": {},
   "outputs": [],
   "source": [
    "#manually idenifing train test splits\n",
    "train_data=data[:1000]\n",
    "train_target=target[:1000]\n",
    "\n",
    "test_data=data[1000:]\n",
    "test_target=target[1000:]"
   ]
  },
  {
   "cell_type": "code",
   "execution_count": 3,
   "metadata": {},
   "outputs": [
    {
     "name": "stderr",
     "output_type": "stream",
     "text": [
      "Using TensorFlow backend.\n",
      "WARNING: Logging before flag parsing goes to stderr.\n",
      "W0111 15:10:39.494910 140671972337472 deprecation_wrapper.py:119] From /mnt/f1853881-aeab-4d51-b774-c0beb0ce5052/anaconda3/lib/python3.6/site-packages/keras/backend/tensorflow_backend.py:74: The name tf.get_default_graph is deprecated. Please use tf.compat.v1.get_default_graph instead.\n",
      "\n",
      "W0111 15:10:39.517837 140671972337472 deprecation_wrapper.py:119] From /mnt/f1853881-aeab-4d51-b774-c0beb0ce5052/anaconda3/lib/python3.6/site-packages/keras/backend/tensorflow_backend.py:517: The name tf.placeholder is deprecated. Please use tf.compat.v1.placeholder instead.\n",
      "\n",
      "W0111 15:10:39.522946 140671972337472 deprecation_wrapper.py:119] From /mnt/f1853881-aeab-4d51-b774-c0beb0ce5052/anaconda3/lib/python3.6/site-packages/keras/backend/tensorflow_backend.py:4138: The name tf.random_uniform is deprecated. Please use tf.random.uniform instead.\n",
      "\n",
      "W0111 15:10:40.615652 140671972337472 deprecation_wrapper.py:119] From /mnt/f1853881-aeab-4d51-b774-c0beb0ce5052/anaconda3/lib/python3.6/site-packages/keras/optimizers.py:790: The name tf.train.Optimizer is deprecated. Please use tf.compat.v1.train.Optimizer instead.\n",
      "\n"
     ]
    }
   ],
   "source": [
    "from keras.models import Sequential\n",
    "from keras.layers import LSTM,Dense,Dropout\n",
    "\n",
    "model=Sequential()\n",
    "\n",
    "model.add(LSTM(units=96,return_sequences=True,input_shape=(data.shape[1:]))) \n",
    "#don't use many LSMT layers as they have a high memory capacity to be trained and no need of adding more\n",
    "model.add(Dropout(0,2))\n",
    "model.add(LSTM(units=96,return_sequences=True)) #units not to be same as previous layers, can be assumed differently\n",
    "model.add(Dropout(0,2))\n",
    "model.add(LSTM(units=96,return_sequences=True)) \n",
    "model.add(Dropout(0,2))\n",
    "model.add(LSTM(units=96,return_sequences=False)) \n",
    "model.add(Dense(1)) #THIS IS A REGRESSION PROBLEM - LINEAR ACTIVATION (no need to mention as activation is by default linear)\n",
    "\n",
    "model.compile(loss='mse',optimizer='adam') #loss is mean quared error for regression problems"
   ]
  },
  {
   "cell_type": "markdown",
   "metadata": {},
   "source": [
    "model.summary()"
   ]
  },
  {
   "cell_type": "code",
   "execution_count": 4,
   "metadata": {},
   "outputs": [
    {
     "name": "stdout",
     "output_type": "stream",
     "text": [
      "_________________________________________________________________\n",
      "Layer (type)                 Output Shape              Param #   \n",
      "=================================================================\n",
      "lstm_1 (LSTM)                (None, 50, 96)            37632     \n",
      "_________________________________________________________________\n",
      "dropout_1 (Dropout)          (None, 50, 96)            0         \n",
      "_________________________________________________________________\n",
      "lstm_2 (LSTM)                (None, 50, 96)            74112     \n",
      "_________________________________________________________________\n",
      "dropout_2 (Dropout)          (None, 50, 96)            0         \n",
      "_________________________________________________________________\n",
      "lstm_3 (LSTM)                (None, 50, 96)            74112     \n",
      "_________________________________________________________________\n",
      "dropout_3 (Dropout)          (None, 50, 96)            0         \n",
      "_________________________________________________________________\n",
      "lstm_4 (LSTM)                (None, 96)                74112     \n",
      "_________________________________________________________________\n",
      "dense_1 (Dense)              (None, 1)                 97        \n",
      "=================================================================\n",
      "Total params: 260,065\n",
      "Trainable params: 260,065\n",
      "Non-trainable params: 0\n",
      "_________________________________________________________________\n"
     ]
    }
   ],
   "source": [
    "model.summary()"
   ]
  },
  {
   "cell_type": "code",
   "execution_count": 5,
   "metadata": {},
   "outputs": [
    {
     "name": "stderr",
     "output_type": "stream",
     "text": [
      "W0111 15:10:41.881468 140671972337472 deprecation.py:323] From /home/chiran/.local/lib/python3.6/site-packages/tensorflow/python/ops/math_grad.py:1250: add_dispatch_support.<locals>.wrapper (from tensorflow.python.ops.array_ops) is deprecated and will be removed in a future version.\n",
      "Instructions for updating:\n",
      "Use tf.where in 2.0, which has the same broadcast rule as np.where\n",
      "W0111 15:10:45.652950 140671972337472 deprecation_wrapper.py:119] From /mnt/f1853881-aeab-4d51-b774-c0beb0ce5052/anaconda3/lib/python3.6/site-packages/keras/backend/tensorflow_backend.py:986: The name tf.assign_add is deprecated. Please use tf.compat.v1.assign_add instead.\n",
      "\n",
      "W0111 15:10:46.028638 140671972337472 deprecation_wrapper.py:119] From /mnt/f1853881-aeab-4d51-b774-c0beb0ce5052/anaconda3/lib/python3.6/site-packages/keras/backend/tensorflow_backend.py:973: The name tf.assign is deprecated. Please use tf.compat.v1.assign instead.\n",
      "\n"
     ]
    },
    {
     "name": "stdout",
     "output_type": "stream",
     "text": [
      "Epoch 1/100\n",
      "1000/1000 [==============================] - 13s 13ms/step - loss: 0.0217\n",
      "Epoch 2/100\n",
      "1000/1000 [==============================] - 8s 8ms/step - loss: 0.0018\n",
      "Epoch 3/100\n",
      "1000/1000 [==============================] - 5s 5ms/step - loss: 0.0014\n",
      "Epoch 4/100\n",
      "1000/1000 [==============================] - 5s 5ms/step - loss: 0.0013\n",
      "Epoch 5/100\n",
      "1000/1000 [==============================] - 4s 4ms/step - loss: 0.0014\n",
      "Epoch 6/100\n",
      "1000/1000 [==============================] - 4s 4ms/step - loss: 0.0012\n",
      "Epoch 7/100\n",
      "1000/1000 [==============================] - 4s 4ms/step - loss: 0.0012\n",
      "Epoch 8/100\n",
      "1000/1000 [==============================] - 4s 4ms/step - loss: 9.9060e-04\n",
      "Epoch 9/100\n",
      "1000/1000 [==============================] - 4s 4ms/step - loss: 9.4503e-04\n",
      "Epoch 10/100\n",
      "1000/1000 [==============================] - 4s 4ms/step - loss: 9.4296e-04\n",
      "Epoch 11/100\n",
      "1000/1000 [==============================] - 5s 5ms/step - loss: 8.3284e-04\n",
      "Epoch 12/100\n",
      "1000/1000 [==============================] - 5s 5ms/step - loss: 7.5190e-04\n",
      "Epoch 13/100\n",
      "1000/1000 [==============================] - 4s 4ms/step - loss: 7.5265e-04\n",
      "Epoch 14/100\n",
      "1000/1000 [==============================] - 5s 5ms/step - loss: 7.0229e-04\n",
      "Epoch 15/100\n",
      "1000/1000 [==============================] - 5s 5ms/step - loss: 6.9927e-04\n",
      "Epoch 16/100\n",
      "1000/1000 [==============================] - 5s 5ms/step - loss: 6.9303e-04\n",
      "Epoch 17/100\n",
      "1000/1000 [==============================] - 6s 6ms/step - loss: 6.2206e-04\n",
      "Epoch 18/100\n",
      "1000/1000 [==============================] - 8s 8ms/step - loss: 6.3875e-04\n",
      "Epoch 19/100\n",
      "1000/1000 [==============================] - 6s 6ms/step - loss: 5.8149e-04\n",
      "Epoch 20/100\n",
      "1000/1000 [==============================] - 5s 5ms/step - loss: 5.7480e-04\n",
      "Epoch 21/100\n",
      "1000/1000 [==============================] - 5s 5ms/step - loss: 7.4371e-04\n",
      "Epoch 22/100\n",
      "1000/1000 [==============================] - 6s 6ms/step - loss: 4.9953e-04\n",
      "Epoch 23/100\n",
      "1000/1000 [==============================] - 5s 5ms/step - loss: 4.8366e-04\n",
      "Epoch 24/100\n",
      "1000/1000 [==============================] - 5s 5ms/step - loss: 4.7250e-04\n",
      "Epoch 25/100\n",
      "1000/1000 [==============================] - 5s 5ms/step - loss: 4.7683e-04\n",
      "Epoch 26/100\n",
      "1000/1000 [==============================] - 5s 5ms/step - loss: 6.4800e-04\n",
      "Epoch 27/100\n",
      "1000/1000 [==============================] - 5s 5ms/step - loss: 4.5964e-04\n",
      "Epoch 28/100\n",
      "1000/1000 [==============================] - 5s 5ms/step - loss: 3.7565e-04\n",
      "Epoch 29/100\n",
      "1000/1000 [==============================] - 5s 5ms/step - loss: 4.1315e-04\n",
      "Epoch 30/100\n",
      "1000/1000 [==============================] - 5s 5ms/step - loss: 3.6441e-04\n",
      "Epoch 31/100\n",
      "1000/1000 [==============================] - 5s 5ms/step - loss: 3.3767e-04\n",
      "Epoch 32/100\n",
      "1000/1000 [==============================] - 5s 5ms/step - loss: 3.2892e-04\n",
      "Epoch 33/100\n",
      "1000/1000 [==============================] - 5s 5ms/step - loss: 3.3899e-04\n",
      "Epoch 34/100\n",
      "1000/1000 [==============================] - 5s 5ms/step - loss: 3.3991e-04\n",
      "Epoch 35/100\n",
      "1000/1000 [==============================] - 6s 6ms/step - loss: 2.9198e-04\n",
      "Epoch 36/100\n",
      "1000/1000 [==============================] - 5s 5ms/step - loss: 2.9781e-04\n",
      "Epoch 37/100\n",
      "1000/1000 [==============================] - 5s 5ms/step - loss: 3.1893e-04\n",
      "Epoch 38/100\n",
      "1000/1000 [==============================] - 5s 5ms/step - loss: 2.8466e-04\n",
      "Epoch 39/100\n",
      "1000/1000 [==============================] - 5s 5ms/step - loss: 2.4821e-04\n",
      "Epoch 40/100\n",
      "1000/1000 [==============================] - 5s 5ms/step - loss: 3.4897e-04\n",
      "Epoch 41/100\n",
      "1000/1000 [==============================] - 5s 5ms/step - loss: 2.8167e-04\n",
      "Epoch 42/100\n",
      "1000/1000 [==============================] - 5s 5ms/step - loss: 3.4866e-04\n",
      "Epoch 43/100\n",
      "1000/1000 [==============================] - 5s 5ms/step - loss: 3.1944e-04\n",
      "Epoch 44/100\n",
      "1000/1000 [==============================] - 5s 5ms/step - loss: 3.0953e-04\n",
      "Epoch 45/100\n",
      "1000/1000 [==============================] - 6s 6ms/step - loss: 2.4337e-04\n",
      "Epoch 46/100\n",
      "1000/1000 [==============================] - 5s 5ms/step - loss: 2.3137e-04\n",
      "Epoch 47/100\n",
      "1000/1000 [==============================] - 5s 5ms/step - loss: 2.2651e-04\n",
      "Epoch 48/100\n",
      "1000/1000 [==============================] - 5s 5ms/step - loss: 2.2954e-04\n",
      "Epoch 49/100\n",
      "1000/1000 [==============================] - 5s 5ms/step - loss: 2.6863e-04\n",
      "Epoch 50/100\n",
      "1000/1000 [==============================] - 5s 5ms/step - loss: 2.5727e-04\n",
      "Epoch 51/100\n",
      "1000/1000 [==============================] - 5s 5ms/step - loss: 2.1748e-04\n",
      "Epoch 52/100\n",
      "1000/1000 [==============================] - 5s 5ms/step - loss: 2.2540e-04\n",
      "Epoch 53/100\n",
      "1000/1000 [==============================] - 5s 5ms/step - loss: 2.6658e-04\n",
      "Epoch 54/100\n",
      "1000/1000 [==============================] - 5s 5ms/step - loss: 2.4627e-04\n",
      "Epoch 55/100\n",
      "1000/1000 [==============================] - 5s 5ms/step - loss: 2.5993e-04\n",
      "Epoch 56/100\n",
      "1000/1000 [==============================] - 5s 5ms/step - loss: 2.7184e-04\n",
      "Epoch 57/100\n",
      "1000/1000 [==============================] - 5s 5ms/step - loss: 2.3499e-04\n",
      "Epoch 58/100\n",
      "1000/1000 [==============================] - 5s 5ms/step - loss: 2.4793e-04\n",
      "Epoch 59/100\n",
      "1000/1000 [==============================] - 7s 7ms/step - loss: 2.2524e-04\n",
      "Epoch 60/100\n",
      "1000/1000 [==============================] - 6s 6ms/step - loss: 3.1667e-04\n",
      "Epoch 61/100\n",
      "1000/1000 [==============================] - 7s 7ms/step - loss: 4.7245e-04\n",
      "Epoch 62/100\n",
      "1000/1000 [==============================] - 7s 7ms/step - loss: 2.2807e-04\n",
      "Epoch 63/100\n",
      "1000/1000 [==============================] - 7s 7ms/step - loss: 3.7405e-04\n",
      "Epoch 64/100\n",
      "1000/1000 [==============================] - 8s 8ms/step - loss: 4.0525e-04\n",
      "Epoch 65/100\n",
      "1000/1000 [==============================] - 6s 6ms/step - loss: 2.8413e-04\n",
      "Epoch 66/100\n",
      "1000/1000 [==============================] - 5s 5ms/step - loss: 2.1910e-04\n",
      "Epoch 67/100\n",
      "1000/1000 [==============================] - 8s 8ms/step - loss: 2.1488e-04\n",
      "Epoch 68/100\n",
      "1000/1000 [==============================] - 7s 7ms/step - loss: 2.1711e-04\n",
      "Epoch 69/100\n",
      "1000/1000 [==============================] - 7s 7ms/step - loss: 2.0405e-04\n",
      "Epoch 70/100\n",
      "1000/1000 [==============================] - 6s 6ms/step - loss: 2.0643e-04\n",
      "Epoch 71/100\n",
      "1000/1000 [==============================] - 6s 6ms/step - loss: 2.1946e-04\n",
      "Epoch 72/100\n",
      "1000/1000 [==============================] - 7s 7ms/step - loss: 2.2600e-04\n",
      "Epoch 73/100\n",
      "1000/1000 [==============================] - 6s 6ms/step - loss: 2.1820e-04\n",
      "Epoch 74/100\n",
      "1000/1000 [==============================] - 6s 6ms/step - loss: 2.4828e-04\n",
      "Epoch 75/100\n",
      "1000/1000 [==============================] - 5s 5ms/step - loss: 2.0725e-04\n",
      "Epoch 76/100\n",
      "1000/1000 [==============================] - 7s 7ms/step - loss: 2.2614e-04\n",
      "Epoch 77/100\n",
      "1000/1000 [==============================] - 6s 6ms/step - loss: 2.1177e-04\n",
      "Epoch 78/100\n",
      "1000/1000 [==============================] - 6s 6ms/step - loss: 2.1201e-04\n",
      "Epoch 79/100\n",
      "1000/1000 [==============================] - 5s 5ms/step - loss: 2.2764e-04\n",
      "Epoch 80/100\n",
      "1000/1000 [==============================] - 5s 5ms/step - loss: 2.3320e-04\n",
      "Epoch 81/100\n",
      "1000/1000 [==============================] - 5s 5ms/step - loss: 2.2806e-04\n",
      "Epoch 82/100\n",
      "1000/1000 [==============================] - 5s 5ms/step - loss: 2.3292e-04\n",
      "Epoch 83/100\n",
      "1000/1000 [==============================] - 5s 5ms/step - loss: 2.2697e-04\n",
      "Epoch 84/100\n",
      "1000/1000 [==============================] - 5s 5ms/step - loss: 2.4988e-04\n",
      "Epoch 85/100\n",
      "1000/1000 [==============================] - 5s 5ms/step - loss: 2.5427e-04\n",
      "Epoch 86/100\n",
      "1000/1000 [==============================] - 5s 5ms/step - loss: 2.3000e-04\n",
      "Epoch 87/100\n",
      "1000/1000 [==============================] - 7s 7ms/step - loss: 2.7860e-04\n",
      "Epoch 88/100\n",
      "1000/1000 [==============================] - 6s 6ms/step - loss: 2.7206e-04\n",
      "Epoch 89/100\n",
      "1000/1000 [==============================] - 6s 6ms/step - loss: 3.4535e-04\n",
      "Epoch 90/100\n",
      "1000/1000 [==============================] - 6s 6ms/step - loss: 3.7771e-04\n",
      "Epoch 91/100\n",
      "1000/1000 [==============================] - 6s 6ms/step - loss: 2.6745e-04\n",
      "Epoch 92/100\n",
      "1000/1000 [==============================] - 5s 5ms/step - loss: 2.5553e-04\n",
      "Epoch 93/100\n"
     ]
    },
    {
     "name": "stdout",
     "output_type": "stream",
     "text": [
      "1000/1000 [==============================] - 5s 5ms/step - loss: 2.0625e-04\n",
      "Epoch 94/100\n",
      "1000/1000 [==============================] - 5s 5ms/step - loss: 2.0216e-04\n",
      "Epoch 95/100\n",
      "1000/1000 [==============================] - 5s 5ms/step - loss: 2.3100e-04\n",
      "Epoch 96/100\n",
      "1000/1000 [==============================] - 5s 5ms/step - loss: 2.7152e-04\n",
      "Epoch 97/100\n",
      "1000/1000 [==============================] - 5s 5ms/step - loss: 2.6093e-04\n",
      "Epoch 98/100\n",
      "1000/1000 [==============================] - 5s 5ms/step - loss: 2.4106e-04\n",
      "Epoch 99/100\n",
      "1000/1000 [==============================] - 5s 5ms/step - loss: 3.2098e-04\n",
      "Epoch 100/100\n",
      "1000/1000 [==============================] - 4s 4ms/step - loss: 3.0531e-04\n"
     ]
    },
    {
     "data": {
      "text/plain": [
       "<keras.callbacks.History at 0x7ff0b865c4e0>"
      ]
     },
     "execution_count": 5,
     "metadata": {},
     "output_type": "execute_result"
    }
   ],
   "source": [
    "model.fit(train_data,train_target,epochs=100)"
   ]
  },
  {
   "cell_type": "code",
   "execution_count": 13,
   "metadata": {},
   "outputs": [],
   "source": [
    "result=model.predict(test_data)"
   ]
  },
  {
   "cell_type": "code",
   "execution_count": 14,
   "metadata": {},
   "outputs": [
    {
     "data": {
      "image/png": "[encoded data removed]",
      "text/plain": [
       "<Figure size 432x288 with 1 Axes>"
      ]
     },
     "metadata": {
      "needs_background": "light"
     },
     "output_type": "display_data"
    }
   ],
   "source": [
    "from matplotlib import pyplot as plt\n",
    "\n",
    "plt.plot(train_target,'r',label='train_data')\n",
    "plt.plot(np.arange(1000,1209),test_target,'b',label='train_data')\n",
    "plt.plot(np.arange(1000,1209),result,'g',label='predicted_results')\n",
    "plt.xlabel('Day')\n",
    "plt.ylabel('Stock Value $')\n",
    "plt.legend()\n",
    "plt.show()"
   ]
  },
  {
   "cell_type": "code",
   "execution_count": 18,
   "metadata": {},
   "outputs": [
    {
     "data": {
      "image/png": "[encoded data removed]",
      "text/plain": [
       "<Figure size 432x288 with 1 Axes>"
      ]
     },
     "metadata": {
      "needs_background": "light"
     },
     "output_type": "display_data"
    }
   ],
   "source": [
    "\n",
    "plt.plot(test_target,'b',label='train_data')\n",
    "plt.plot(result+0.015,'g',label='predicted_results')\n",
    "plt.xlabel('Day')\n",
    "plt.ylabel('Stock Value $')\n",
    "plt.legend()\n",
    "plt.show()"
   ]
  },
  {
   "cell_type": "code",
   "execution_count": 20,
   "metadata": {},
   "outputs": [
    {
     "name": "stdout",
     "output_type": "stream",
     "text": [
      "R2 score 0.9320018053327246\n"
     ]
    }
   ],
   "source": [
    "from sklearn.metrics import r2_score\n",
    "\n",
    "r2= r2_score(test_target,result)\n",
    "print('R2 score',r2)"
   ]
  },
  {
   "cell_type": "code",
   "execution_count": null,
   "metadata": {},
   "outputs": [],
   "source": []
  }
 ],
 "metadata": {
  "kernelspec": {
   "display_name": "Python 3",
   "language": "python",
   "name": "python3"
  },
  "language_info": {
   "codemirror_mode": {
    "name": "ipython",
    "version": 3
   },
   "file_extension": ".py",
   "mimetype": "text/x-python",
   "name": "python",
   "nbconvert_exporter": "python",
   "pygments_lexer": "ipython3",
   "version": "3.6.9"
  }
 },
 "nbformat": 4,
 "nbformat_minor": 2
}
