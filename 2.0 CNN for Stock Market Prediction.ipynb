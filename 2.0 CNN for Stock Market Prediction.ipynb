{
 "cells": [
  {
   "cell_type": "code",
   "execution_count": 1,
   "metadata": {},
   "outputs": [],
   "source": [
    "import numpy as np\n",
    "\n",
    "data=np.load('data.npy')\n",
    "target=np.load('target.npy')"
   ]
  },
  {
   "cell_type": "code",
   "execution_count": 2,
   "metadata": {},
   "outputs": [],
   "source": [
    "#manually idenifing train test splits\n",
    "train_data=data[:1000]\n",
    "train_target=target[:1000]\n",
    "\n",
    "test_data=data[1000:]\n",
    "test_target=target[1000:]"
   ]
  },
  {
   "cell_type": "code",
   "execution_count": 10,
   "metadata": {},
   "outputs": [
    {
     "name": "stdout",
     "output_type": "stream",
     "text": [
      "_________________________________________________________________\n",
      "Layer (type)                 Output Shape              Param #   \n",
      "=================================================================\n",
      "conv1d_3 (Conv1D)            (None, 46, 128)           768       \n",
      "_________________________________________________________________\n",
      "activation_3 (Activation)    (None, 46, 128)           0         \n",
      "_________________________________________________________________\n",
      "max_pooling1d_3 (MaxPooling1 (None, 11, 128)           0         \n",
      "_________________________________________________________________\n",
      "conv1d_4 (Conv1D)            (None, 7, 64)             41024     \n",
      "_________________________________________________________________\n",
      "activation_4 (Activation)    (None, 7, 64)             0         \n",
      "_________________________________________________________________\n",
      "max_pooling1d_4 (MaxPooling1 (None, 1, 64)             0         \n",
      "_________________________________________________________________\n",
      "flatten_2 (Flatten)          (None, 64)                0         \n",
      "_________________________________________________________________\n",
      "dense_2 (Dense)              (None, 1)                 65        \n",
      "=================================================================\n",
      "Total params: 41,857\n",
      "Trainable params: 41,857\n",
      "Non-trainable params: 0\n",
      "_________________________________________________________________\n"
     ]
    }
   ],
   "source": [
    "from keras.models import Sequential\n",
    "from keras.layers import Conv1D,MaxPooling1D,Dense,Dropout,Activation,Flatten #1D because time series data\n",
    "\n",
    "model=Sequential()\n",
    "\n",
    "model.add(Conv1D(filters=128,input_shape=(data.shape[1:]),kernel_size=5))\n",
    "model.add(Activation('relu'))\n",
    "model.add(MaxPooling1D(pool_size=4))\n",
    "\n",
    "model.add(Conv1D(filters=64,input_shape=(data.shape[1:]),kernel_size=5))\n",
    "model.add(Activation('relu'))\n",
    "model.add(MaxPooling1D(pool_size=4))\n",
    "\n",
    "model.add(Flatten())\n",
    "model.add(Dense(1))\n",
    "\n",
    "model.compile(loss='mse',optimizer='adam')\n",
    "\n",
    "model.summary()\n"
   ]
  },
  {
   "cell_type": "code",
   "execution_count": 11,
   "metadata": {},
   "outputs": [
    {
     "name": "stderr",
     "output_type": "stream",
     "text": [
      "W0111 16:15:30.130199 140326428505920 deprecation_wrapper.py:119] From /mnt/f1853881-aeab-4d51-b774-c0beb0ce5052/anaconda3/lib/python3.6/site-packages/keras/backend/tensorflow_backend.py:986: The name tf.assign_add is deprecated. Please use tf.compat.v1.assign_add instead.\n",
      "\n",
      "W0111 16:15:30.226175 140326428505920 deprecation_wrapper.py:119] From /mnt/f1853881-aeab-4d51-b774-c0beb0ce5052/anaconda3/lib/python3.6/site-packages/keras/backend/tensorflow_backend.py:973: The name tf.assign is deprecated. Please use tf.compat.v1.assign instead.\n",
      "\n"
     ]
    },
    {
     "name": "stdout",
     "output_type": "stream",
     "text": [
      "Epoch 1/100\n",
      "1000/1000 [==============================] - 3s 3ms/step - loss: 0.0190\n",
      "Epoch 2/100\n",
      "1000/1000 [==============================] - 0s 160us/step - loss: 0.0044\n",
      "Epoch 3/100\n",
      "1000/1000 [==============================] - 0s 179us/step - loss: 0.0040\n",
      "Epoch 4/100\n",
      "1000/1000 [==============================] - 0s 198us/step - loss: 0.0039\n",
      "Epoch 5/100\n",
      "1000/1000 [==============================] - 0s 182us/step - loss: 0.0038\n",
      "Epoch 6/100\n",
      "1000/1000 [==============================] - 0s 188us/step - loss: 0.0037\n",
      "Epoch 7/100\n",
      "1000/1000 [==============================] - 0s 384us/step - loss: 0.0037\n",
      "Epoch 8/100\n",
      "1000/1000 [==============================] - 0s 328us/step - loss: 0.0036\n",
      "Epoch 9/100\n",
      "1000/1000 [==============================] - 0s 181us/step - loss: 0.0036\n",
      "Epoch 10/100\n",
      "1000/1000 [==============================] - 0s 191us/step - loss: 0.0035\n",
      "Epoch 11/100\n",
      "1000/1000 [==============================] - 0s 190us/step - loss: 0.0034\n",
      "Epoch 12/100\n",
      "1000/1000 [==============================] - 0s 177us/step - loss: 0.0034\n",
      "Epoch 13/100\n",
      "1000/1000 [==============================] - 0s 208us/step - loss: 0.0033\n",
      "Epoch 14/100\n",
      "1000/1000 [==============================] - 0s 215us/step - loss: 0.0033\n",
      "Epoch 15/100\n",
      "1000/1000 [==============================] - 0s 316us/step - loss: 0.0032\n",
      "Epoch 16/100\n",
      "1000/1000 [==============================] - 0s 201us/step - loss: 0.0034\n",
      "Epoch 17/100\n",
      "1000/1000 [==============================] - 0s 193us/step - loss: 0.0031\n",
      "Epoch 18/100\n",
      "1000/1000 [==============================] - 0s 184us/step - loss: 0.0030\n",
      "Epoch 19/100\n",
      "1000/1000 [==============================] - 0s 181us/step - loss: 0.0030\n",
      "Epoch 20/100\n",
      "1000/1000 [==============================] - 0s 186us/step - loss: 0.0032\n",
      "Epoch 21/100\n",
      "1000/1000 [==============================] - 0s 340us/step - loss: 0.0030\n",
      "Epoch 22/100\n",
      "1000/1000 [==============================] - 0s 207us/step - loss: 0.0032\n",
      "Epoch 23/100\n",
      "1000/1000 [==============================] - 0s 334us/step - loss: 0.0031\n",
      "Epoch 24/100\n",
      "1000/1000 [==============================] - 0s 203us/step - loss: 0.0030\n",
      "Epoch 25/100\n",
      "1000/1000 [==============================] - 0s 328us/step - loss: 0.0029\n",
      "Epoch 26/100\n",
      "1000/1000 [==============================] - 0s 202us/step - loss: 0.0032\n",
      "Epoch 27/100\n",
      "1000/1000 [==============================] - 0s 214us/step - loss: 0.0028\n",
      "Epoch 28/100\n",
      "1000/1000 [==============================] - 0s 280us/step - loss: 0.0030\n",
      "Epoch 29/100\n",
      "1000/1000 [==============================] - 0s 272us/step - loss: 0.0034\n",
      "Epoch 30/100\n",
      "1000/1000 [==============================] - 0s 294us/step - loss: 0.0031\n",
      "Epoch 31/100\n",
      "1000/1000 [==============================] - 0s 289us/step - loss: 0.0033\n",
      "Epoch 32/100\n",
      "1000/1000 [==============================] - 0s 278us/step - loss: 0.0028\n",
      "Epoch 33/100\n",
      "1000/1000 [==============================] - 0s 293us/step - loss: 0.0029\n",
      "Epoch 34/100\n",
      "1000/1000 [==============================] - 0s 301us/step - loss: 0.0029\n",
      "Epoch 35/100\n",
      "1000/1000 [==============================] - 0s 302us/step - loss: 0.0030\n",
      "Epoch 36/100\n",
      "1000/1000 [==============================] - 0s 272us/step - loss: 0.0028\n",
      "Epoch 37/100\n",
      "1000/1000 [==============================] - 0s 298us/step - loss: 0.0029\n",
      "Epoch 38/100\n",
      "1000/1000 [==============================] - 0s 278us/step - loss: 0.0028\n",
      "Epoch 39/100\n",
      "1000/1000 [==============================] - 0s 269us/step - loss: 0.0028\n",
      "Epoch 40/100\n",
      "1000/1000 [==============================] - 0s 231us/step - loss: 0.0027\n",
      "Epoch 41/100\n",
      "1000/1000 [==============================] - 0s 209us/step - loss: 0.0026\n",
      "Epoch 42/100\n",
      "1000/1000 [==============================] - 0s 163us/step - loss: 0.0027\n",
      "Epoch 43/100\n",
      "1000/1000 [==============================] - 0s 230us/step - loss: 0.0026\n",
      "Epoch 44/100\n",
      "1000/1000 [==============================] - 0s 227us/step - loss: 0.0026\n",
      "Epoch 45/100\n",
      "1000/1000 [==============================] - 0s 222us/step - loss: 0.0027\n",
      "Epoch 46/100\n",
      "1000/1000 [==============================] - 0s 278us/step - loss: 0.0026\n",
      "Epoch 47/100\n",
      "1000/1000 [==============================] - 0s 227us/step - loss: 0.0026\n",
      "Epoch 48/100\n",
      "1000/1000 [==============================] - 0s 199us/step - loss: 0.0025\n",
      "Epoch 49/100\n",
      "1000/1000 [==============================] - 0s 196us/step - loss: 0.0025\n",
      "Epoch 50/100\n",
      "1000/1000 [==============================] - 0s 206us/step - loss: 0.0025\n",
      "Epoch 51/100\n",
      "1000/1000 [==============================] - 0s 215us/step - loss: 0.0025\n",
      "Epoch 52/100\n",
      "1000/1000 [==============================] - 0s 204us/step - loss: 0.0025\n",
      "Epoch 53/100\n",
      "1000/1000 [==============================] - 0s 179us/step - loss: 0.0024\n",
      "Epoch 54/100\n",
      "1000/1000 [==============================] - 0s 184us/step - loss: 0.0025\n",
      "Epoch 55/100\n",
      "1000/1000 [==============================] - 0s 190us/step - loss: 0.0025\n",
      "Epoch 56/100\n",
      "1000/1000 [==============================] - 0s 168us/step - loss: 0.0023\n",
      "Epoch 57/100\n",
      "1000/1000 [==============================] - 0s 187us/step - loss: 0.0023\n",
      "Epoch 58/100\n",
      "1000/1000 [==============================] - 0s 191us/step - loss: 0.0025\n",
      "Epoch 59/100\n",
      "1000/1000 [==============================] - 0s 170us/step - loss: 0.0024\n",
      "Epoch 60/100\n",
      "1000/1000 [==============================] - 0s 217us/step - loss: 0.0023\n",
      "Epoch 61/100\n",
      "1000/1000 [==============================] - 0s 195us/step - loss: 0.0026\n",
      "Epoch 62/100\n",
      "1000/1000 [==============================] - 0s 195us/step - loss: 0.0025\n",
      "Epoch 63/100\n",
      "1000/1000 [==============================] - 0s 188us/step - loss: 0.0024\n",
      "Epoch 64/100\n",
      "1000/1000 [==============================] - 0s 212us/step - loss: 0.0023\n",
      "Epoch 65/100\n",
      "1000/1000 [==============================] - 0s 180us/step - loss: 0.0024\n",
      "Epoch 66/100\n",
      "1000/1000 [==============================] - 0s 169us/step - loss: 0.0022\n",
      "Epoch 67/100\n",
      "1000/1000 [==============================] - 0s 179us/step - loss: 0.0022\n",
      "Epoch 68/100\n",
      "1000/1000 [==============================] - 0s 174us/step - loss: 0.0022\n",
      "Epoch 69/100\n",
      "1000/1000 [==============================] - 0s 173us/step - loss: 0.0023\n",
      "Epoch 70/100\n",
      "1000/1000 [==============================] - 0s 194us/step - loss: 0.0023\n",
      "Epoch 71/100\n",
      "1000/1000 [==============================] - 0s 205us/step - loss: 0.0022\n",
      "Epoch 72/100\n",
      "1000/1000 [==============================] - 0s 179us/step - loss: 0.0022\n",
      "Epoch 73/100\n",
      "1000/1000 [==============================] - 0s 196us/step - loss: 0.0022\n",
      "Epoch 74/100\n",
      "1000/1000 [==============================] - 0s 167us/step - loss: 0.0021\n",
      "Epoch 75/100\n",
      "1000/1000 [==============================] - 0s 176us/step - loss: 0.0023\n",
      "Epoch 76/100\n",
      "1000/1000 [==============================] - 0s 202us/step - loss: 0.0022\n",
      "Epoch 77/100\n",
      "1000/1000 [==============================] - 0s 181us/step - loss: 0.0024\n",
      "Epoch 78/100\n",
      "1000/1000 [==============================] - 0s 201us/step - loss: 0.0021\n",
      "Epoch 79/100\n",
      "1000/1000 [==============================] - 0s 173us/step - loss: 0.0022\n",
      "Epoch 80/100\n",
      "1000/1000 [==============================] - 0s 199us/step - loss: 0.0022\n",
      "Epoch 81/100\n",
      "1000/1000 [==============================] - 0s 188us/step - loss: 0.0024\n",
      "Epoch 82/100\n",
      "1000/1000 [==============================] - 0s 179us/step - loss: 0.0022\n",
      "Epoch 83/100\n",
      "1000/1000 [==============================] - 0s 191us/step - loss: 0.0021\n",
      "Epoch 84/100\n",
      "1000/1000 [==============================] - 0s 200us/step - loss: 0.0021\n",
      "Epoch 85/100\n",
      "1000/1000 [==============================] - 0s 212us/step - loss: 0.0021\n",
      "Epoch 86/100\n",
      "1000/1000 [==============================] - 0s 183us/step - loss: 0.0021\n",
      "Epoch 87/100\n",
      "1000/1000 [==============================] - 0s 173us/step - loss: 0.0020\n",
      "Epoch 88/100\n",
      "1000/1000 [==============================] - 0s 193us/step - loss: 0.0021\n",
      "Epoch 89/100\n",
      "1000/1000 [==============================] - 0s 210us/step - loss: 0.0021\n",
      "Epoch 90/100\n",
      "1000/1000 [==============================] - 0s 175us/step - loss: 0.0022\n",
      "Epoch 91/100\n",
      "1000/1000 [==============================] - 0s 273us/step - loss: 0.0021\n",
      "Epoch 92/100\n",
      "1000/1000 [==============================] - 0s 214us/step - loss: 0.0020\n",
      "Epoch 93/100\n",
      "1000/1000 [==============================] - 0s 255us/step - loss: 0.0020\n",
      "Epoch 94/100\n",
      "1000/1000 [==============================] - 0s 261us/step - loss: 0.0022\n",
      "Epoch 95/100\n"
     ]
    },
    {
     "name": "stdout",
     "output_type": "stream",
     "text": [
      "1000/1000 [==============================] - 0s 187us/step - loss: 0.0020\n",
      "Epoch 96/100\n",
      "1000/1000 [==============================] - 0s 170us/step - loss: 0.0019\n",
      "Epoch 97/100\n",
      "1000/1000 [==============================] - 0s 214us/step - loss: 0.0019\n",
      "Epoch 98/100\n",
      "1000/1000 [==============================] - 0s 255us/step - loss: 0.0021\n",
      "Epoch 99/100\n",
      "1000/1000 [==============================] - 0s 271us/step - loss: 0.0020\n",
      "Epoch 100/100\n",
      "1000/1000 [==============================] - 0s 238us/step - loss: 0.0021\n"
     ]
    },
    {
     "data": {
      "text/plain": [
       "<keras.callbacks.History at 0x7f9ffea5a4a8>"
      ]
     },
     "execution_count": 11,
     "metadata": {},
     "output_type": "execute_result"
    }
   ],
   "source": [
    "model.fit(train_data,train_target,epochs=100)"
   ]
  },
  {
   "cell_type": "code",
   "execution_count": 13,
   "metadata": {},
   "outputs": [],
   "source": [
    "result=model.predict(test_data)"
   ]
  },
  {
   "cell_type": "code",
   "execution_count": 14,
   "metadata": {},
   "outputs": [
    {
     "data": {
      "image/png": "[encoded data removed]",
      "text/plain": [
       "<Figure size 432x288 with 1 Axes>"
      ]
     },
     "metadata": {
      "needs_background": "light"
     },
     "output_type": "display_data"
    }
   ],
   "source": [
    "from matplotlib import pyplot as plt\n",
    "\n",
    "plt.plot(train_target,'r',label='train_data')\n",
    "plt.plot(np.arange(1000,1209),test_target,'b',label='train_data')\n",
    "plt.plot(np.arange(1000,1209),result,'g',label='predicted_results')\n",
    "plt.xlabel('Day')\n",
    "plt.ylabel('Stock Value $')\n",
    "plt.legend()\n",
    "plt.show()"
   ]
  },
  {
   "cell_type": "code",
   "execution_count": 16,
   "metadata": {},
   "outputs": [
    {
     "data": {
      "image/png": "[encoded data removed]",
      "text/plain": [
       "<Figure size 432x288 with 1 Axes>"
      ]
     },
     "metadata": {
      "needs_background": "light"
     },
     "output_type": "display_data"
    }
   ],
   "source": [
    "\n",
    "plt.plot(test_target,'b',label='train_data')\n",
    "plt.plot(result,'g',label='predicted_results')\n",
    "plt.xlabel('Day')\n",
    "plt.ylabel('Stock Value $')\n",
    "plt.legend()\n",
    "plt.show()"
   ]
  },
  {
   "cell_type": "code",
   "execution_count": 17,
   "metadata": {},
   "outputs": [
    {
     "name": "stdout",
     "output_type": "stream",
     "text": [
      "R2 score -0.2292089405205453\n"
     ]
    }
   ],
   "source": [
    "from sklearn.metrics import r2_score\n",
    "\n",
    "r2= r2_score(test_target,result)\n",
    "print('R2 score',r2)"
   ]
  },
  {
   "cell_type": "code",
   "execution_count": null,
   "metadata": {},
   "outputs": [],
   "source": []
  }
 ],
 "metadata": {
  "kernelspec": {
   "display_name": "Python 3",
   "language": "python",
   "name": "python3"
  },
  "language_info": {
   "codemirror_mode": {
    "name": "ipython",
    "version": 3
   },
   "file_extension": ".py",
   "mimetype": "text/x-python",
   "name": "python",
   "nbconvert_exporter": "python",
   "pygments_lexer": "ipython3",
   "version": "3.6.9"
  }
 },
 "nbformat": 4,
 "nbformat_minor": 2
}
